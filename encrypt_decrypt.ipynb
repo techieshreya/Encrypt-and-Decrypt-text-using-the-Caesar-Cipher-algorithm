{
  "nbformat": 4,
  "nbformat_minor": 0,
  "metadata": {
    "colab": {
      "provenance": []
    },
    "kernelspec": {
      "name": "python3",
      "display_name": "Python 3"
    },
    "language_info": {
      "name": "python"
    }
  },
  "cells": [
    {
      "cell_type": "code",
      "execution_count": null,
      "metadata": {
        "colab": {
          "base_uri": "https://localhost:8080/"
        },
        "id": "j9KKGziGBbdI",
        "outputId": "522cc5e5-3270-4c80-cacc-bd558c4afbef"
      },
      "outputs": [
        {
          "name": "stdout",
          "output_type": "stream",
          "text": [
            "Would you like to (e)ncrypt or (d)ecrypt a message? (e/d): d\n",
            "Enter your message: jgnnq aqw\n",
            "Enter the shift value: 2\n",
            "Decrypted message: hello you\n",
            "Do you want to encrypt/decrypt another message? (y/n): n\n"
          ]
        }
      ],
      "source": [
        "def caesar_cipher_encrypt(plaintext, shift):\n",
        "    encrypted_text = \"\"\n",
        "    for char in plaintext:\n",
        "        if char.isalpha():\n",
        "            shift_amount = shift % 26\n",
        "            if char.islower():\n",
        "                encrypted_text += chr((ord(char) - ord('a') + shift_amount) % 26 + ord('a'))\n",
        "            elif char.isupper():\n",
        "                encrypted_text += chr((ord(char) - ord('A') + shift_amount) % 26 + ord('A'))\n",
        "        else:\n",
        "            encrypted_text += char\n",
        "    return encrypted_text\n",
        "\n",
        "def caesar_cipher_decrypt(ciphertext, shift):\n",
        "    decrypted_text = \"\"\n",
        "    for char in ciphertext:\n",
        "        if char.isalpha():\n",
        "            shift_amount = shift % 26\n",
        "            if char.islower():\n",
        "                decrypted_text += chr((ord(char) - ord('a') - shift_amount) % 26 + ord('a'))\n",
        "            elif char.isupper():\n",
        "                decrypted_text += chr((ord(char) - ord('A') - shift_amount) % 26 + ord('A'))\n",
        "        else:\n",
        "            decrypted_text += char\n",
        "    return decrypted_text\n",
        "\n",
        "def main():\n",
        "    while True:\n",
        "        choice = input(\"Would you like to (e)ncrypt or (d)ecrypt a message? (e/d): \").lower()\n",
        "        if choice not in ['e', 'd']:\n",
        "            print(\"Invalid choice. Please enter 'e' to encrypt or 'd' to decrypt.\")\n",
        "            continue\n",
        "\n",
        "        message = input(\"Enter your message: \")\n",
        "        shift = int(input(\"Enter the shift value: \"))\n",
        "\n",
        "        if choice == 'e':\n",
        "            encrypted_message = caesar_cipher_encrypt(message, shift)\n",
        "            print(f\"Encrypted message: {encrypted_message}\")\n",
        "        elif choice == 'd':\n",
        "            decrypted_message = caesar_cipher_decrypt(message, shift)\n",
        "            print(f\"Decrypted message: {decrypted_message}\")\n",
        "\n",
        "        continue_choice = input(\"Do you want to encrypt/decrypt another message? (y/n): \").lower()\n",
        "        if continue_choice != 'y':\n",
        "            break\n",
        "\n",
        "if __name__ == \"__main__\":\n",
        "    main()\n"
      ]
    }
  ]
}